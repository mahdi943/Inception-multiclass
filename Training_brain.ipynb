{
  "cells": [
    {
      "cell_type": "markdown",
      "metadata": {
        "id": "view-in-github",
        "colab_type": "text"
      },
      "source": [
        "<a href=\"https://colab.research.google.com/github/mahdi943/cs_project/blob/Develop-mahdi/Training_brain.ipynb\" target=\"_parent\"><img src=\"https://colab.research.google.com/assets/colab-badge.svg\" alt=\"Open In Colab\"/></a>"
      ]
    },
    {
      "cell_type": "markdown",
      "metadata": {
        "id": "_YOYiWvHbNDW"
      },
      "source": [
        "##1) Initialize\n",
        "\n",
        "*   First make a copy of the notebook given to you as a starter.\n",
        "\n",
        "*   Make sure you choose Connect form upper right.\n"
      ]
    },
    {
      "cell_type": "markdown",
      "metadata": {
        "id": "MM-wwHR8qL0M"
      },
      "source": [
        "## 2) Load training dataset\n",
        "\n",
        "*  Read from Keras library.\n",
        "\n"
      ]
    },
    {
      "cell_type": "code",
      "execution_count": 70,
      "metadata": {
        "id": "k_uBeZBxiUbO"
      },
      "outputs": [],
      "source": [
        "import pandas as pd\n",
        "import numpy as np\n",
        "import tensorflow as tf\n",
        "import seaborn as sns\n",
        "import matplotlib.pyplot as plt\n",
        "import scipy.io\n",
        "from numpy import random\n",
        "\n",
        "import keras\n",
        "from keras import layers\n",
        "from keras.layers import Input, Dense, Activation, Flatten, GlobalAveragePooling2D,  BatchNormalization, Conv2D, MaxPooling2D\n",
        "\n",
        "from keras.models import Model\n",
        "\n",
        "from keras.preprocessing import image\n",
        "from keras.utils import layer_utils\n",
        "from keras.layers import Dropout\n",
        "from keras.regularizers import l2\n",
        "from keras.regularizers import l1\n",
        "np.random.seed(5)\n",
        "from sklearn.model_selection import train_test_split\n",
        "from keras.preprocessing.image import ImageDataGenerator\n",
        "import cv2\n",
        "import os\n",
        "from keras.utils.np_utils import to_categorical"
      ]
    },
    {
      "cell_type": "code",
      "execution_count": 71,
      "metadata": {
        "id": "Iz3iMpjVfa5I"
      },
      "outputs": [],
      "source": [
        "# import the necessary libraries\n",
        "import pandas as pd \n",
        "import numpy as np\n",
        "import matplotlib.pyplot as plt\n",
        "from PIL import Image\n",
        "\n",
        "import keras\n",
        "import tensorflow as tf\n",
        "from keras.preprocessing.image import ImageDataGenerator\n",
        "from keras.preprocessing import image\n",
        "#% matplotlib inline\n",
        "from keras.preprocessing.image import load_img,img_to_array,array_to_img,save_img"
      ]
    },
    {
      "cell_type": "code",
      "execution_count": 72,
      "metadata": {
        "colab": {
          "base_uri": "https://localhost:8080/",
          "height": 206
        },
        "id": "EaTfK-gqx_Ig",
        "outputId": "1fd04802-e03f-4ff9-f946-13337955ab60"
      },
      "outputs": [
        {
          "output_type": "execute_result",
          "data": {
            "text/plain": [
              "    name  class0  class1  class2  class3  \\\n",
              "0  1.jpg       1       0       0       0   \n",
              "1  2.jpg       1       0       0       0   \n",
              "2  3.jpg       1       0       0       0   \n",
              "3  4.jpg       1       0       0       0   \n",
              "4  5.jpg       1       0       0       0   \n",
              "\n",
              "                                                 box  txt  \n",
              "0  [{'x_center': 250, 'y_center': 250, 'width': 4...    1  \n",
              "1  [{'x_center': 250, 'y_center': 250, 'width': 4...    2  \n",
              "2  [{'x_center': 250, 'y_center': 250, 'width': 4...    3  \n",
              "3  [{'x_center': 250, 'y_center': 250, 'width': 4...    4  \n",
              "4  [{'x_center': 250, 'y_center': 250, 'width': 4...    5  "
            ],
            "text/html": [
              "\n",
              "  <div id=\"df-370a7490-336f-49a4-9135-4d6980ab6166\">\n",
              "    <div class=\"colab-df-container\">\n",
              "      <div>\n",
              "<style scoped>\n",
              "    .dataframe tbody tr th:only-of-type {\n",
              "        vertical-align: middle;\n",
              "    }\n",
              "\n",
              "    .dataframe tbody tr th {\n",
              "        vertical-align: top;\n",
              "    }\n",
              "\n",
              "    .dataframe thead th {\n",
              "        text-align: right;\n",
              "    }\n",
              "</style>\n",
              "<table border=\"1\" class=\"dataframe\">\n",
              "  <thead>\n",
              "    <tr style=\"text-align: right;\">\n",
              "      <th></th>\n",
              "      <th>name</th>\n",
              "      <th>class0</th>\n",
              "      <th>class1</th>\n",
              "      <th>class2</th>\n",
              "      <th>class3</th>\n",
              "      <th>box</th>\n",
              "      <th>txt</th>\n",
              "    </tr>\n",
              "  </thead>\n",
              "  <tbody>\n",
              "    <tr>\n",
              "      <th>0</th>\n",
              "      <td>1.jpg</td>\n",
              "      <td>1</td>\n",
              "      <td>0</td>\n",
              "      <td>0</td>\n",
              "      <td>0</td>\n",
              "      <td>[{'x_center': 250, 'y_center': 250, 'width': 4...</td>\n",
              "      <td>1</td>\n",
              "    </tr>\n",
              "    <tr>\n",
              "      <th>1</th>\n",
              "      <td>2.jpg</td>\n",
              "      <td>1</td>\n",
              "      <td>0</td>\n",
              "      <td>0</td>\n",
              "      <td>0</td>\n",
              "      <td>[{'x_center': 250, 'y_center': 250, 'width': 4...</td>\n",
              "      <td>2</td>\n",
              "    </tr>\n",
              "    <tr>\n",
              "      <th>2</th>\n",
              "      <td>3.jpg</td>\n",
              "      <td>1</td>\n",
              "      <td>0</td>\n",
              "      <td>0</td>\n",
              "      <td>0</td>\n",
              "      <td>[{'x_center': 250, 'y_center': 250, 'width': 4...</td>\n",
              "      <td>3</td>\n",
              "    </tr>\n",
              "    <tr>\n",
              "      <th>3</th>\n",
              "      <td>4.jpg</td>\n",
              "      <td>1</td>\n",
              "      <td>0</td>\n",
              "      <td>0</td>\n",
              "      <td>0</td>\n",
              "      <td>[{'x_center': 250, 'y_center': 250, 'width': 4...</td>\n",
              "      <td>4</td>\n",
              "    </tr>\n",
              "    <tr>\n",
              "      <th>4</th>\n",
              "      <td>5.jpg</td>\n",
              "      <td>1</td>\n",
              "      <td>0</td>\n",
              "      <td>0</td>\n",
              "      <td>0</td>\n",
              "      <td>[{'x_center': 250, 'y_center': 250, 'width': 4...</td>\n",
              "      <td>5</td>\n",
              "    </tr>\n",
              "  </tbody>\n",
              "</table>\n",
              "</div>\n",
              "      <button class=\"colab-df-convert\" onclick=\"convertToInteractive('df-370a7490-336f-49a4-9135-4d6980ab6166')\"\n",
              "              title=\"Convert this dataframe to an interactive table.\"\n",
              "              style=\"display:none;\">\n",
              "        \n",
              "  <svg xmlns=\"http://www.w3.org/2000/svg\" height=\"24px\"viewBox=\"0 0 24 24\"\n",
              "       width=\"24px\">\n",
              "    <path d=\"M0 0h24v24H0V0z\" fill=\"none\"/>\n",
              "    <path d=\"M18.56 5.44l.94 2.06.94-2.06 2.06-.94-2.06-.94-.94-2.06-.94 2.06-2.06.94zm-11 1L8.5 8.5l.94-2.06 2.06-.94-2.06-.94L8.5 2.5l-.94 2.06-2.06.94zm10 10l.94 2.06.94-2.06 2.06-.94-2.06-.94-.94-2.06-.94 2.06-2.06.94z\"/><path d=\"M17.41 7.96l-1.37-1.37c-.4-.4-.92-.59-1.43-.59-.52 0-1.04.2-1.43.59L10.3 9.45l-7.72 7.72c-.78.78-.78 2.05 0 2.83L4 21.41c.39.39.9.59 1.41.59.51 0 1.02-.2 1.41-.59l7.78-7.78 2.81-2.81c.8-.78.8-2.07 0-2.86zM5.41 20L4 18.59l7.72-7.72 1.47 1.35L5.41 20z\"/>\n",
              "  </svg>\n",
              "      </button>\n",
              "      \n",
              "  <style>\n",
              "    .colab-df-container {\n",
              "      display:flex;\n",
              "      flex-wrap:wrap;\n",
              "      gap: 12px;\n",
              "    }\n",
              "\n",
              "    .colab-df-convert {\n",
              "      background-color: #E8F0FE;\n",
              "      border: none;\n",
              "      border-radius: 50%;\n",
              "      cursor: pointer;\n",
              "      display: none;\n",
              "      fill: #1967D2;\n",
              "      height: 32px;\n",
              "      padding: 0 0 0 0;\n",
              "      width: 32px;\n",
              "    }\n",
              "\n",
              "    .colab-df-convert:hover {\n",
              "      background-color: #E2EBFA;\n",
              "      box-shadow: 0px 1px 2px rgba(60, 64, 67, 0.3), 0px 1px 3px 1px rgba(60, 64, 67, 0.15);\n",
              "      fill: #174EA6;\n",
              "    }\n",
              "\n",
              "    [theme=dark] .colab-df-convert {\n",
              "      background-color: #3B4455;\n",
              "      fill: #D2E3FC;\n",
              "    }\n",
              "\n",
              "    [theme=dark] .colab-df-convert:hover {\n",
              "      background-color: #434B5C;\n",
              "      box-shadow: 0px 1px 3px 1px rgba(0, 0, 0, 0.15);\n",
              "      filter: drop-shadow(0px 1px 2px rgba(0, 0, 0, 0.3));\n",
              "      fill: #FFFFFF;\n",
              "    }\n",
              "  </style>\n",
              "\n",
              "      <script>\n",
              "        const buttonEl =\n",
              "          document.querySelector('#df-370a7490-336f-49a4-9135-4d6980ab6166 button.colab-df-convert');\n",
              "        buttonEl.style.display =\n",
              "          google.colab.kernel.accessAllowed ? 'block' : 'none';\n",
              "\n",
              "        async function convertToInteractive(key) {\n",
              "          const element = document.querySelector('#df-370a7490-336f-49a4-9135-4d6980ab6166');\n",
              "          const dataTable =\n",
              "            await google.colab.kernel.invokeFunction('convertToInteractive',\n",
              "                                                     [key], {});\n",
              "          if (!dataTable) return;\n",
              "\n",
              "          const docLinkHtml = 'Like what you see? Visit the ' +\n",
              "            '<a target=\"_blank\" href=https://colab.research.google.com/notebooks/data_table.ipynb>data table notebook</a>'\n",
              "            + ' to learn more about interactive tables.';\n",
              "          element.innerHTML = '';\n",
              "          dataTable['output_type'] = 'display_data';\n",
              "          await google.colab.output.renderOutput(dataTable, element);\n",
              "          const docLink = document.createElement('div');\n",
              "          docLink.innerHTML = docLinkHtml;\n",
              "          element.appendChild(docLink);\n",
              "        }\n",
              "      </script>\n",
              "    </div>\n",
              "  </div>\n",
              "  "
            ]
          },
          "metadata": {},
          "execution_count": 72
        }
      ],
      "source": [
        "data = pd.read_csv('/content/drive/MyDrive/project/dataset/train_new_brain.csv') # enter the file path on your drive for the csv file\n",
        "data.head()"
      ]
    },
    {
      "cell_type": "markdown",
      "metadata": {
        "id": "eGqTsEANb0kF"
      },
      "source": [
        "##4) Transfer Learning with VGG-16\n",
        "\n",
        "We will create the base model from the well-known VGG-16 model. This is pre-trained on ImageNet dataset, a large dataset consisting of 1.4M images and 1000 classes.\n",
        "\n",
        "First, you need to pick which layer of VGG-16 you will use for feature extraction. The very last classification layer (called \"top\", as most diagrams of machine learning models go from bottom to top) is not very useful. Instead, you will follow the common practice to depend on the very last layer before the flatten operation. This layer is called the \"bottleneck layer\". The bottleneck layer features retain more generality as compared to the final/top layer.\n",
        "\n",
        "You'll also load the pretrained weights from ImageNet by specifying weights='imagenet'. \n"
      ]
    },
    {
      "cell_type": "code",
      "source": [
        "from keras.applications import inception_v3\n",
        "from keras.applications.inception_v3 import InceptionV3\n",
        "\n",
        "base_model = InceptionV3(weights = 'imagenet', include_top = False, input_shape=(500, 500, 3))\n",
        "base_model.layers.pop()\n",
        "base_model.layers.pop()\n",
        "base_model.layers.pop()\n",
        "base_model.layers.pop()\n",
        "for layer in base_model.layers:\n",
        "  layer.trainable = False\n",
        "# base_model.summary()"
      ],
      "metadata": {
        "id": "HLp-guc6dZOI"
      },
      "execution_count": 93,
      "outputs": []
    },
    {
      "cell_type": "markdown",
      "metadata": {
        "id": "0cBj1jprmRKY"
      },
      "source": [
        "By setting the trainable attribute to False, we ensure that the original (ImageNet) weights of the model will remain constant.\n",
        "\n",
        "Note that it is possible to adjust the number of trainable layers by modifying the for loop."
      ]
    },
    {
      "cell_type": "markdown",
      "metadata": {
        "id": "XgTV9JXClM41"
      },
      "source": [
        "We need a binary classifier (Male/Female) which we will add manually on top of the pre-trained model. This layer is usually called \"classification head\". Feel free to use the methods you learned in the class, i.e Dropout"
      ]
    },
    {
      "cell_type": "code",
      "execution_count": 94,
      "metadata": {
        "id": "F4KvPonulG7_"
      },
      "outputs": [],
      "source": [
        "def brain_model(base_model, img_shape = (500,500,3)):\n",
        "    \n",
        "    \n",
        "    # create the input layer (Same as the imageNetv2 input size)\n",
        "    inputs = tf.keras.Input(shape=img_shape) \n",
        "    \n",
        "    # Forward pass to get the output of the last pooling layer\n",
        "    X = base_model(inputs)\n",
        "    #X = Dropout(.5, img_shape)(X)\n",
        "    X = GlobalAveragePooling2D()(X)\n",
        "    X = Dropout(.25)(X)\n",
        "    # Define the new binary classification head \n",
        "    \n",
        "    X = Dense(500, activation='relu', name='fc1')(X)\n",
        "    X = Dropout(.25)(X)\n",
        "    X = Dense(256, activation='relu', name='fc2')(X)\n",
        "    X = Dropout(.25)(X)\n",
        "    X = Dense(256, activation='relu', name='fc3')(X)\n",
        "    X = Dropout(.25)(X)\n",
        "    X = Dense(64, activation='relu', name='fc4')(X)\n",
        "    X = Dropout(.25)(X)\n",
        "        \n",
        "    outputs = Dense(4,activation='softmax', name='predictions')(X)\n",
        "    model = tf.keras.Model(inputs, outputs)\n",
        "    \n",
        "    return model"
      ]
    },
    {
      "cell_type": "code",
      "execution_count": 95,
      "metadata": {
        "id": "h6j8oCK-sPeN"
      },
      "outputs": [],
      "source": [
        "#Create your model using the function above\n",
        "\n",
        "model = brain_model (base_model, (500,500,3))"
      ]
    },
    {
      "cell_type": "code",
      "execution_count": 76,
      "metadata": {
        "id": "AM-6EEENqbg6",
        "colab": {
          "base_uri": "https://localhost:8080/"
        },
        "outputId": "0eca3dd2-77fe-4b22-f0f1-7cbd6b37ff5b"
      },
      "outputs": [
        {
          "output_type": "stream",
          "name": "stdout",
          "text": [
            "Model: \"model_4\"\n",
            "_________________________________________________________________\n",
            " Layer (type)                Output Shape              Param #   \n",
            "=================================================================\n",
            " input_17 (InputLayer)       [(None, 500, 500, 3)]     0         \n",
            "                                                                 \n",
            " inception_v3 (Functional)   (None, 14, 14, 2048)      21802784  \n",
            "                                                                 \n",
            " dropout_21 (Dropout)        (None, 14, 14, 2048)      0         \n",
            "                                                                 \n",
            " global_average_pooling2d_6   (None, 2048)             0         \n",
            " (GlobalAveragePooling2D)                                        \n",
            "                                                                 \n",
            " dropout_22 (Dropout)        (None, 2048)              0         \n",
            "                                                                 \n",
            " fc1 (Dense)                 (None, 500)               1024500   \n",
            "                                                                 \n",
            " dropout_23 (Dropout)        (None, 500)               0         \n",
            "                                                                 \n",
            " fc2 (Dense)                 (None, 256)               128256    \n",
            "                                                                 \n",
            " dropout_24 (Dropout)        (None, 256)               0         \n",
            "                                                                 \n",
            " fc3 (Dense)                 (None, 256)               65792     \n",
            "                                                                 \n",
            " dropout_25 (Dropout)        (None, 256)               0         \n",
            "                                                                 \n",
            " fc4 (Dense)                 (None, 64)                16448     \n",
            "                                                                 \n",
            " dropout_26 (Dropout)        (None, 64)                0         \n",
            "                                                                 \n",
            " predictions (Dense)         (None, 4)                 260       \n",
            "                                                                 \n",
            "=================================================================\n",
            "Total params: 23,038,040\n",
            "Trainable params: 1,235,448\n",
            "Non-trainable params: 21,802,592\n",
            "_________________________________________________________________\n"
          ]
        }
      ],
      "source": [
        "model.summary()"
      ]
    },
    {
      "cell_type": "markdown",
      "metadata": {
        "id": "VudyisrdvdtI"
      },
      "source": [
        "## 7) Train the Network with  Tuned Parameters"
      ]
    },
    {
      "cell_type": "code",
      "execution_count": 96,
      "metadata": {
        "id": "3pTM1VZGZuOQ",
        "outputId": "37e26f2b-83ee-47c8-ba6f-6744537e16e0",
        "colab": {
          "base_uri": "https://localhost:8080/",
          "height": 206
        }
      },
      "outputs": [
        {
          "output_type": "execute_result",
          "data": {
            "text/plain": [
              "     name  class0  class1  class2  class3  \\\n",
              "0  65.jpg       1       0       0       0   \n",
              "1  66.jpg       1       0       0       0   \n",
              "2  67.jpg       1       0       0       0   \n",
              "3  68.jpg       1       0       0       0   \n",
              "4  69.jpg       1       0       0       0   \n",
              "\n",
              "                                                 box  txt  \n",
              "0  [{'x_center': 250, 'y_center': 250, 'width': 4...   65  \n",
              "1  [{'x_center': 250, 'y_center': 250, 'width': 4...   66  \n",
              "2  [{'x_center': 250, 'y_center': 250, 'width': 4...   67  \n",
              "3  [{'x_center': 250, 'y_center': 250, 'width': 4...   68  \n",
              "4  [{'x_center': 250, 'y_center': 250, 'width': 4...   69  "
            ],
            "text/html": [
              "\n",
              "  <div id=\"df-09cfa419-f23f-4502-99d3-dd3efa3a30bb\">\n",
              "    <div class=\"colab-df-container\">\n",
              "      <div>\n",
              "<style scoped>\n",
              "    .dataframe tbody tr th:only-of-type {\n",
              "        vertical-align: middle;\n",
              "    }\n",
              "\n",
              "    .dataframe tbody tr th {\n",
              "        vertical-align: top;\n",
              "    }\n",
              "\n",
              "    .dataframe thead th {\n",
              "        text-align: right;\n",
              "    }\n",
              "</style>\n",
              "<table border=\"1\" class=\"dataframe\">\n",
              "  <thead>\n",
              "    <tr style=\"text-align: right;\">\n",
              "      <th></th>\n",
              "      <th>name</th>\n",
              "      <th>class0</th>\n",
              "      <th>class1</th>\n",
              "      <th>class2</th>\n",
              "      <th>class3</th>\n",
              "      <th>box</th>\n",
              "      <th>txt</th>\n",
              "    </tr>\n",
              "  </thead>\n",
              "  <tbody>\n",
              "    <tr>\n",
              "      <th>0</th>\n",
              "      <td>65.jpg</td>\n",
              "      <td>1</td>\n",
              "      <td>0</td>\n",
              "      <td>0</td>\n",
              "      <td>0</td>\n",
              "      <td>[{'x_center': 250, 'y_center': 250, 'width': 4...</td>\n",
              "      <td>65</td>\n",
              "    </tr>\n",
              "    <tr>\n",
              "      <th>1</th>\n",
              "      <td>66.jpg</td>\n",
              "      <td>1</td>\n",
              "      <td>0</td>\n",
              "      <td>0</td>\n",
              "      <td>0</td>\n",
              "      <td>[{'x_center': 250, 'y_center': 250, 'width': 4...</td>\n",
              "      <td>66</td>\n",
              "    </tr>\n",
              "    <tr>\n",
              "      <th>2</th>\n",
              "      <td>67.jpg</td>\n",
              "      <td>1</td>\n",
              "      <td>0</td>\n",
              "      <td>0</td>\n",
              "      <td>0</td>\n",
              "      <td>[{'x_center': 250, 'y_center': 250, 'width': 4...</td>\n",
              "      <td>67</td>\n",
              "    </tr>\n",
              "    <tr>\n",
              "      <th>3</th>\n",
              "      <td>68.jpg</td>\n",
              "      <td>1</td>\n",
              "      <td>0</td>\n",
              "      <td>0</td>\n",
              "      <td>0</td>\n",
              "      <td>[{'x_center': 250, 'y_center': 250, 'width': 4...</td>\n",
              "      <td>68</td>\n",
              "    </tr>\n",
              "    <tr>\n",
              "      <th>4</th>\n",
              "      <td>69.jpg</td>\n",
              "      <td>1</td>\n",
              "      <td>0</td>\n",
              "      <td>0</td>\n",
              "      <td>0</td>\n",
              "      <td>[{'x_center': 250, 'y_center': 250, 'width': 4...</td>\n",
              "      <td>69</td>\n",
              "    </tr>\n",
              "  </tbody>\n",
              "</table>\n",
              "</div>\n",
              "      <button class=\"colab-df-convert\" onclick=\"convertToInteractive('df-09cfa419-f23f-4502-99d3-dd3efa3a30bb')\"\n",
              "              title=\"Convert this dataframe to an interactive table.\"\n",
              "              style=\"display:none;\">\n",
              "        \n",
              "  <svg xmlns=\"http://www.w3.org/2000/svg\" height=\"24px\"viewBox=\"0 0 24 24\"\n",
              "       width=\"24px\">\n",
              "    <path d=\"M0 0h24v24H0V0z\" fill=\"none\"/>\n",
              "    <path d=\"M18.56 5.44l.94 2.06.94-2.06 2.06-.94-2.06-.94-.94-2.06-.94 2.06-2.06.94zm-11 1L8.5 8.5l.94-2.06 2.06-.94-2.06-.94L8.5 2.5l-.94 2.06-2.06.94zm10 10l.94 2.06.94-2.06 2.06-.94-2.06-.94-.94-2.06-.94 2.06-2.06.94z\"/><path d=\"M17.41 7.96l-1.37-1.37c-.4-.4-.92-.59-1.43-.59-.52 0-1.04.2-1.43.59L10.3 9.45l-7.72 7.72c-.78.78-.78 2.05 0 2.83L4 21.41c.39.39.9.59 1.41.59.51 0 1.02-.2 1.41-.59l7.78-7.78 2.81-2.81c.8-.78.8-2.07 0-2.86zM5.41 20L4 18.59l7.72-7.72 1.47 1.35L5.41 20z\"/>\n",
              "  </svg>\n",
              "      </button>\n",
              "      \n",
              "  <style>\n",
              "    .colab-df-container {\n",
              "      display:flex;\n",
              "      flex-wrap:wrap;\n",
              "      gap: 12px;\n",
              "    }\n",
              "\n",
              "    .colab-df-convert {\n",
              "      background-color: #E8F0FE;\n",
              "      border: none;\n",
              "      border-radius: 50%;\n",
              "      cursor: pointer;\n",
              "      display: none;\n",
              "      fill: #1967D2;\n",
              "      height: 32px;\n",
              "      padding: 0 0 0 0;\n",
              "      width: 32px;\n",
              "    }\n",
              "\n",
              "    .colab-df-convert:hover {\n",
              "      background-color: #E2EBFA;\n",
              "      box-shadow: 0px 1px 2px rgba(60, 64, 67, 0.3), 0px 1px 3px 1px rgba(60, 64, 67, 0.15);\n",
              "      fill: #174EA6;\n",
              "    }\n",
              "\n",
              "    [theme=dark] .colab-df-convert {\n",
              "      background-color: #3B4455;\n",
              "      fill: #D2E3FC;\n",
              "    }\n",
              "\n",
              "    [theme=dark] .colab-df-convert:hover {\n",
              "      background-color: #434B5C;\n",
              "      box-shadow: 0px 1px 3px 1px rgba(0, 0, 0, 0.15);\n",
              "      filter: drop-shadow(0px 1px 2px rgba(0, 0, 0, 0.3));\n",
              "      fill: #FFFFFF;\n",
              "    }\n",
              "  </style>\n",
              "\n",
              "      <script>\n",
              "        const buttonEl =\n",
              "          document.querySelector('#df-09cfa419-f23f-4502-99d3-dd3efa3a30bb button.colab-df-convert');\n",
              "        buttonEl.style.display =\n",
              "          google.colab.kernel.accessAllowed ? 'block' : 'none';\n",
              "\n",
              "        async function convertToInteractive(key) {\n",
              "          const element = document.querySelector('#df-09cfa419-f23f-4502-99d3-dd3efa3a30bb');\n",
              "          const dataTable =\n",
              "            await google.colab.kernel.invokeFunction('convertToInteractive',\n",
              "                                                     [key], {});\n",
              "          if (!dataTable) return;\n",
              "\n",
              "          const docLinkHtml = 'Like what you see? Visit the ' +\n",
              "            '<a target=\"_blank\" href=https://colab.research.google.com/notebooks/data_table.ipynb>data table notebook</a>'\n",
              "            + ' to learn more about interactive tables.';\n",
              "          element.innerHTML = '';\n",
              "          dataTable['output_type'] = 'display_data';\n",
              "          await google.colab.output.renderOutput(dataTable, element);\n",
              "          const docLink = document.createElement('div');\n",
              "          docLink.innerHTML = docLinkHtml;\n",
              "          element.appendChild(docLink);\n",
              "        }\n",
              "      </script>\n",
              "    </div>\n",
              "  </div>\n",
              "  "
            ]
          },
          "metadata": {},
          "execution_count": 96
        }
      ],
      "source": [
        "data1 = pd.read_csv('/content/drive/MyDrive/project/dataset/val_new_brain.csv') # enter the file path on your drive for the csv file\n",
        "data1.head()"
      ]
    },
    {
      "cell_type": "code",
      "source": [
        "from google.colab import drive\n",
        "drive.mount('/content/drive')"
      ],
      "metadata": {
        "colab": {
          "base_uri": "https://localhost:8080/"
        },
        "id": "_K4N35WCkc2j",
        "outputId": "40c740e8-2082-49b8-b44d-022a23ce5e89"
      },
      "execution_count": 78,
      "outputs": [
        {
          "output_type": "stream",
          "name": "stdout",
          "text": [
            "Drive already mounted at /content/drive; to attempt to forcibly remount, call drive.mount(\"/content/drive\", force_remount=True).\n"
          ]
        }
      ]
    },
    {
      "cell_type": "code",
      "execution_count": 79,
      "metadata": {
        "id": "oKqiU33HZuOR",
        "outputId": "2ddf8bcd-b2c0-4967-8fdd-a4ec0701a819",
        "colab": {
          "base_uri": "https://localhost:8080/"
        }
      },
      "outputs": [
        {
          "output_type": "stream",
          "name": "stdout",
          "text": [
            "Archive:  /content/drive/MyDrive/project/dataset/Train.zip\n",
            "replace Train/1.jpg? [y]es, [n]o, [A]ll, [N]one, [r]ename: y\n",
            "  inflating: Train/1.jpg             \n",
            "replace Train/10.jpg? [y]es, [n]o, [A]ll, [N]one, [r]ename: y\n",
            "  inflating: Train/10.jpg            \n",
            "replace Train/101.jpg? [y]es, [n]o, [A]ll, [N]one, [r]ename: y\n",
            "  inflating: Train/101.jpg           \n",
            "replace Train/102.jpg? [y]es, [n]o, [A]ll, [N]one, [r]ename: y\n",
            "  inflating: Train/102.jpg           \n",
            "replace Train/103.jpg? [y]es, [n]o, [A]ll, [N]one, [r]ename: N\n"
          ]
        }
      ],
      "source": [
        "!unzip \"/content/drive/MyDrive/project/dataset/Train.zip\""
      ]
    },
    {
      "cell_type": "code",
      "execution_count": 80,
      "metadata": {
        "id": "GAKZ1p1BZuOR"
      },
      "outputs": [],
      "source": [
        "y_col = ['class0', 'class1', 'class2', 'class3']"
      ]
    },
    {
      "cell_type": "markdown",
      "metadata": {
        "id": "t1orZsY8UGel"
      },
      "source": [
        "##2.1) Preparing the Dataset"
      ]
    },
    {
      "cell_type": "code",
      "execution_count": 81,
      "metadata": {
        "id": "PA0aOXNxZuOS"
      },
      "outputs": [],
      "source": [
        "# cd C:/Users/Asus/Downloads/cropped images/Valid"
      ]
    },
    {
      "cell_type": "code",
      "source": [
        "!unzip \"/content/drive/MyDrive/project/dataset/Valid.zip\""
      ],
      "metadata": {
        "colab": {
          "base_uri": "https://localhost:8080/"
        },
        "id": "cDVb6jSQzqXc",
        "outputId": "69732143-973b-404d-ab2a-f760af46e770"
      },
      "execution_count": 82,
      "outputs": [
        {
          "output_type": "stream",
          "name": "stdout",
          "text": [
            "Archive:  /content/drive/MyDrive/project/dataset/Valid.zip\n",
            "replace Valid/165.jpg? [y]es, [n]o, [A]ll, [N]one, [r]ename: N\n"
          ]
        }
      ]
    },
    {
      "cell_type": "code",
      "execution_count": 88,
      "metadata": {
        "id": "uKhDvnj9ZuOS",
        "outputId": "3e03be0c-6ce9-4de2-88a3-e51cf0ce1153",
        "colab": {
          "base_uri": "https://localhost:8080/",
          "height": 423
        }
      },
      "outputs": [
        {
          "output_type": "execute_result",
          "data": {
            "text/plain": [
              "       name  class0  class1  class2  class3  \\\n",
              "0    65.jpg       1       0       0       0   \n",
              "1    66.jpg       1       0       0       0   \n",
              "2    67.jpg       1       0       0       0   \n",
              "3    68.jpg       1       0       0       0   \n",
              "4    69.jpg       1       0       0       0   \n",
              "..      ...     ...     ...     ...     ...   \n",
              "59  376.jpg       0       0       0       1   \n",
              "60  377.jpg       0       0       0       1   \n",
              "61  378.jpg       0       0       0       1   \n",
              "62  379.jpg       0       0       0       1   \n",
              "63  380.jpg       0       0       0       1   \n",
              "\n",
              "                                                  box  txt  \n",
              "0   [{'x_center': 250, 'y_center': 250, 'width': 4...   65  \n",
              "1   [{'x_center': 250, 'y_center': 250, 'width': 4...   66  \n",
              "2   [{'x_center': 250, 'y_center': 250, 'width': 4...   67  \n",
              "3   [{'x_center': 250, 'y_center': 250, 'width': 4...   68  \n",
              "4   [{'x_center': 250, 'y_center': 250, 'width': 4...   69  \n",
              "..                                                ...  ...  \n",
              "59  [{'x_center': 250, 'y_center': 250, 'width': 4...  376  \n",
              "60  [{'x_center': 250, 'y_center': 250, 'width': 4...  377  \n",
              "61  [{'x_center': 250, 'y_center': 250, 'width': 4...  378  \n",
              "62  [{'x_center': 250, 'y_center': 250, 'width': 4...  379  \n",
              "63  [{'x_center': 250, 'y_center': 250, 'width': 4...  380  \n",
              "\n",
              "[64 rows x 7 columns]"
            ],
            "text/html": [
              "\n",
              "  <div id=\"df-dffff6e8-f9a6-4430-b9de-94681490e867\">\n",
              "    <div class=\"colab-df-container\">\n",
              "      <div>\n",
              "<style scoped>\n",
              "    .dataframe tbody tr th:only-of-type {\n",
              "        vertical-align: middle;\n",
              "    }\n",
              "\n",
              "    .dataframe tbody tr th {\n",
              "        vertical-align: top;\n",
              "    }\n",
              "\n",
              "    .dataframe thead th {\n",
              "        text-align: right;\n",
              "    }\n",
              "</style>\n",
              "<table border=\"1\" class=\"dataframe\">\n",
              "  <thead>\n",
              "    <tr style=\"text-align: right;\">\n",
              "      <th></th>\n",
              "      <th>name</th>\n",
              "      <th>class0</th>\n",
              "      <th>class1</th>\n",
              "      <th>class2</th>\n",
              "      <th>class3</th>\n",
              "      <th>box</th>\n",
              "      <th>txt</th>\n",
              "    </tr>\n",
              "  </thead>\n",
              "  <tbody>\n",
              "    <tr>\n",
              "      <th>0</th>\n",
              "      <td>65.jpg</td>\n",
              "      <td>1</td>\n",
              "      <td>0</td>\n",
              "      <td>0</td>\n",
              "      <td>0</td>\n",
              "      <td>[{'x_center': 250, 'y_center': 250, 'width': 4...</td>\n",
              "      <td>65</td>\n",
              "    </tr>\n",
              "    <tr>\n",
              "      <th>1</th>\n",
              "      <td>66.jpg</td>\n",
              "      <td>1</td>\n",
              "      <td>0</td>\n",
              "      <td>0</td>\n",
              "      <td>0</td>\n",
              "      <td>[{'x_center': 250, 'y_center': 250, 'width': 4...</td>\n",
              "      <td>66</td>\n",
              "    </tr>\n",
              "    <tr>\n",
              "      <th>2</th>\n",
              "      <td>67.jpg</td>\n",
              "      <td>1</td>\n",
              "      <td>0</td>\n",
              "      <td>0</td>\n",
              "      <td>0</td>\n",
              "      <td>[{'x_center': 250, 'y_center': 250, 'width': 4...</td>\n",
              "      <td>67</td>\n",
              "    </tr>\n",
              "    <tr>\n",
              "      <th>3</th>\n",
              "      <td>68.jpg</td>\n",
              "      <td>1</td>\n",
              "      <td>0</td>\n",
              "      <td>0</td>\n",
              "      <td>0</td>\n",
              "      <td>[{'x_center': 250, 'y_center': 250, 'width': 4...</td>\n",
              "      <td>68</td>\n",
              "    </tr>\n",
              "    <tr>\n",
              "      <th>4</th>\n",
              "      <td>69.jpg</td>\n",
              "      <td>1</td>\n",
              "      <td>0</td>\n",
              "      <td>0</td>\n",
              "      <td>0</td>\n",
              "      <td>[{'x_center': 250, 'y_center': 250, 'width': 4...</td>\n",
              "      <td>69</td>\n",
              "    </tr>\n",
              "    <tr>\n",
              "      <th>...</th>\n",
              "      <td>...</td>\n",
              "      <td>...</td>\n",
              "      <td>...</td>\n",
              "      <td>...</td>\n",
              "      <td>...</td>\n",
              "      <td>...</td>\n",
              "      <td>...</td>\n",
              "    </tr>\n",
              "    <tr>\n",
              "      <th>59</th>\n",
              "      <td>376.jpg</td>\n",
              "      <td>0</td>\n",
              "      <td>0</td>\n",
              "      <td>0</td>\n",
              "      <td>1</td>\n",
              "      <td>[{'x_center': 250, 'y_center': 250, 'width': 4...</td>\n",
              "      <td>376</td>\n",
              "    </tr>\n",
              "    <tr>\n",
              "      <th>60</th>\n",
              "      <td>377.jpg</td>\n",
              "      <td>0</td>\n",
              "      <td>0</td>\n",
              "      <td>0</td>\n",
              "      <td>1</td>\n",
              "      <td>[{'x_center': 250, 'y_center': 250, 'width': 4...</td>\n",
              "      <td>377</td>\n",
              "    </tr>\n",
              "    <tr>\n",
              "      <th>61</th>\n",
              "      <td>378.jpg</td>\n",
              "      <td>0</td>\n",
              "      <td>0</td>\n",
              "      <td>0</td>\n",
              "      <td>1</td>\n",
              "      <td>[{'x_center': 250, 'y_center': 250, 'width': 4...</td>\n",
              "      <td>378</td>\n",
              "    </tr>\n",
              "    <tr>\n",
              "      <th>62</th>\n",
              "      <td>379.jpg</td>\n",
              "      <td>0</td>\n",
              "      <td>0</td>\n",
              "      <td>0</td>\n",
              "      <td>1</td>\n",
              "      <td>[{'x_center': 250, 'y_center': 250, 'width': 4...</td>\n",
              "      <td>379</td>\n",
              "    </tr>\n",
              "    <tr>\n",
              "      <th>63</th>\n",
              "      <td>380.jpg</td>\n",
              "      <td>0</td>\n",
              "      <td>0</td>\n",
              "      <td>0</td>\n",
              "      <td>1</td>\n",
              "      <td>[{'x_center': 250, 'y_center': 250, 'width': 4...</td>\n",
              "      <td>380</td>\n",
              "    </tr>\n",
              "  </tbody>\n",
              "</table>\n",
              "<p>64 rows × 7 columns</p>\n",
              "</div>\n",
              "      <button class=\"colab-df-convert\" onclick=\"convertToInteractive('df-dffff6e8-f9a6-4430-b9de-94681490e867')\"\n",
              "              title=\"Convert this dataframe to an interactive table.\"\n",
              "              style=\"display:none;\">\n",
              "        \n",
              "  <svg xmlns=\"http://www.w3.org/2000/svg\" height=\"24px\"viewBox=\"0 0 24 24\"\n",
              "       width=\"24px\">\n",
              "    <path d=\"M0 0h24v24H0V0z\" fill=\"none\"/>\n",
              "    <path d=\"M18.56 5.44l.94 2.06.94-2.06 2.06-.94-2.06-.94-.94-2.06-.94 2.06-2.06.94zm-11 1L8.5 8.5l.94-2.06 2.06-.94-2.06-.94L8.5 2.5l-.94 2.06-2.06.94zm10 10l.94 2.06.94-2.06 2.06-.94-2.06-.94-.94-2.06-.94 2.06-2.06.94z\"/><path d=\"M17.41 7.96l-1.37-1.37c-.4-.4-.92-.59-1.43-.59-.52 0-1.04.2-1.43.59L10.3 9.45l-7.72 7.72c-.78.78-.78 2.05 0 2.83L4 21.41c.39.39.9.59 1.41.59.51 0 1.02-.2 1.41-.59l7.78-7.78 2.81-2.81c.8-.78.8-2.07 0-2.86zM5.41 20L4 18.59l7.72-7.72 1.47 1.35L5.41 20z\"/>\n",
              "  </svg>\n",
              "      </button>\n",
              "      \n",
              "  <style>\n",
              "    .colab-df-container {\n",
              "      display:flex;\n",
              "      flex-wrap:wrap;\n",
              "      gap: 12px;\n",
              "    }\n",
              "\n",
              "    .colab-df-convert {\n",
              "      background-color: #E8F0FE;\n",
              "      border: none;\n",
              "      border-radius: 50%;\n",
              "      cursor: pointer;\n",
              "      display: none;\n",
              "      fill: #1967D2;\n",
              "      height: 32px;\n",
              "      padding: 0 0 0 0;\n",
              "      width: 32px;\n",
              "    }\n",
              "\n",
              "    .colab-df-convert:hover {\n",
              "      background-color: #E2EBFA;\n",
              "      box-shadow: 0px 1px 2px rgba(60, 64, 67, 0.3), 0px 1px 3px 1px rgba(60, 64, 67, 0.15);\n",
              "      fill: #174EA6;\n",
              "    }\n",
              "\n",
              "    [theme=dark] .colab-df-convert {\n",
              "      background-color: #3B4455;\n",
              "      fill: #D2E3FC;\n",
              "    }\n",
              "\n",
              "    [theme=dark] .colab-df-convert:hover {\n",
              "      background-color: #434B5C;\n",
              "      box-shadow: 0px 1px 3px 1px rgba(0, 0, 0, 0.15);\n",
              "      filter: drop-shadow(0px 1px 2px rgba(0, 0, 0, 0.3));\n",
              "      fill: #FFFFFF;\n",
              "    }\n",
              "  </style>\n",
              "\n",
              "      <script>\n",
              "        const buttonEl =\n",
              "          document.querySelector('#df-dffff6e8-f9a6-4430-b9de-94681490e867 button.colab-df-convert');\n",
              "        buttonEl.style.display =\n",
              "          google.colab.kernel.accessAllowed ? 'block' : 'none';\n",
              "\n",
              "        async function convertToInteractive(key) {\n",
              "          const element = document.querySelector('#df-dffff6e8-f9a6-4430-b9de-94681490e867');\n",
              "          const dataTable =\n",
              "            await google.colab.kernel.invokeFunction('convertToInteractive',\n",
              "                                                     [key], {});\n",
              "          if (!dataTable) return;\n",
              "\n",
              "          const docLinkHtml = 'Like what you see? Visit the ' +\n",
              "            '<a target=\"_blank\" href=https://colab.research.google.com/notebooks/data_table.ipynb>data table notebook</a>'\n",
              "            + ' to learn more about interactive tables.';\n",
              "          element.innerHTML = '';\n",
              "          dataTable['output_type'] = 'display_data';\n",
              "          await google.colab.output.renderOutput(dataTable, element);\n",
              "          const docLink = document.createElement('div');\n",
              "          docLink.innerHTML = docLinkHtml;\n",
              "          element.appendChild(docLink);\n",
              "        }\n",
              "      </script>\n",
              "    </div>\n",
              "  </div>\n",
              "  "
            ]
          },
          "metadata": {},
          "execution_count": 88
        }
      ],
      "source": [
        "data1"
      ]
    },
    {
      "cell_type": "code",
      "execution_count": 116,
      "metadata": {
        "id": "XYzQ87QARfam",
        "outputId": "7bf580e5-8202-4095-947e-dfa2f05244d6",
        "colab": {
          "base_uri": "https://localhost:8080/"
        }
      },
      "outputs": [
        {
          "output_type": "stream",
          "name": "stdout",
          "text": [
            "Found 256 validated image filenames.\n"
          ]
        }
      ],
      "source": [
        "batch_size = 16\n",
        "#FOLDER_PATH = Enter the path of the folder that contains images\n",
        "data_path = \"/content/Train\" #where you extracted the zip file\n",
        "\n",
        "#Should augmentations be the same for training and validation? \n",
        "#train_aug = ImageDataGenerator(rescale=1./255, ...)\n",
        "#valid_aug = ImageDataGenerator(rescale=1./255, ...)\n",
        "\n",
        "#shuffle the data\n",
        "data = data.sample(frac=1)\n",
        "data.reset_index(drop = True, inplace = True)\n",
        "\n",
        "train_aug = ImageDataGenerator(rescale=1./255, \n",
        "                               width_shift_range=[-100,100], \n",
        "                               height_shift_range=0.5,       \n",
        "                               shear_range=0.2,\n",
        "                               horizontal_flip=True,\n",
        "                               rotation_range=90,\n",
        "                               brightness_range=[0.2,0.05],\n",
        "                               zoom_range=[0.7,1.0]\n",
        "                               )\n",
        "valid_datagen = ImageDataGenerator(rescale=1./255)\n",
        "test_aug = ImageDataGenerator(rescale=1./255)\n",
        "\n",
        "train_generator = train_aug.flow_from_dataframe(\n",
        "    dataframe=data,\n",
        "    directory=data_path,\n",
        "    x_col='name',\n",
        "    y_col= y_col,\n",
        "    class_mode=\"raw\",\n",
        "    target_size=(500,500), \n",
        "    batch_size=batch_size)\n",
        "\n",
        "\n"
      ]
    },
    {
      "cell_type": "code",
      "execution_count": 117,
      "metadata": {
        "id": "Lbw79cYnZuOS",
        "outputId": "880a438d-6712-4d96-dc74-cbe734d21723",
        "colab": {
          "base_uri": "https://localhost:8080/"
        }
      },
      "outputs": [
        {
          "output_type": "stream",
          "name": "stdout",
          "text": [
            "Found 64 validated image filenames.\n"
          ]
        }
      ],
      "source": [
        "valid_generator = test_aug.flow_from_dataframe(\n",
        "    dataframe=data1,\n",
        "    directory=\"/content/Valid\",\n",
        "    x_col='name',\n",
        "    y_col= y_col,\n",
        "    class_mode= \"raw\",\n",
        "    target_size=(500,500), \n",
        "    batch_size=batch_size\n",
        ")"
      ]
    },
    {
      "cell_type": "code",
      "execution_count": 118,
      "metadata": {
        "id": "nAe0r6YKZuOT",
        "outputId": "5ee970ef-a072-4645-96ea-0bf88163a694",
        "colab": {
          "base_uri": "https://localhost:8080/"
        }
      },
      "outputs": [
        {
          "output_type": "stream",
          "name": "stderr",
          "text": [
            "/usr/local/lib/python3.7/dist-packages/keras/optimizer_v2/adam.py:105: UserWarning: The `lr` argument is deprecated, use `learning_rate` instead.\n",
            "  super(Adam, self).__init__(name, **kwargs)\n"
          ]
        },
        {
          "output_type": "stream",
          "name": "stdout",
          "text": [
            "Epoch 1/15\n",
            "16/16 [==============================] - 23s 1s/step - loss: 1.3075 - accuracy: 0.4570 - val_loss: 0.4887 - val_accuracy: 0.7500\n",
            "Epoch 2/15\n",
            "16/16 [==============================] - 18s 1s/step - loss: 1.1493 - accuracy: 0.4375 - val_loss: 0.7710 - val_accuracy: 0.6562\n",
            "Epoch 3/15\n",
            "16/16 [==============================] - 19s 1s/step - loss: 1.0321 - accuracy: 0.5078 - val_loss: 0.5290 - val_accuracy: 0.8750\n",
            "Epoch 4/15\n",
            "16/16 [==============================] - 18s 1s/step - loss: 0.9584 - accuracy: 0.5781 - val_loss: 0.5083 - val_accuracy: 0.7969\n",
            "Epoch 5/15\n",
            "16/16 [==============================] - 18s 1s/step - loss: 0.9288 - accuracy: 0.5977 - val_loss: 0.3406 - val_accuracy: 0.9844\n",
            "Epoch 6/15\n",
            "16/16 [==============================] - 18s 1s/step - loss: 0.9563 - accuracy: 0.5859 - val_loss: 0.6571 - val_accuracy: 0.6875\n",
            "Epoch 7/15\n",
            "16/16 [==============================] - 18s 1s/step - loss: 0.8452 - accuracy: 0.6172 - val_loss: 0.6659 - val_accuracy: 0.7500\n",
            "Epoch 8/15\n",
            "16/16 [==============================] - 18s 1s/step - loss: 0.7569 - accuracy: 0.6250 - val_loss: 0.1733 - val_accuracy: 0.9688\n",
            "Epoch 9/15\n",
            "16/16 [==============================] - 18s 1s/step - loss: 0.7232 - accuracy: 0.7148 - val_loss: 0.4212 - val_accuracy: 0.8281\n",
            "Epoch 10/15\n",
            "16/16 [==============================] - 18s 1s/step - loss: 0.6846 - accuracy: 0.7109 - val_loss: 0.6338 - val_accuracy: 0.6719\n",
            "Epoch 11/15\n",
            "16/16 [==============================] - 18s 1s/step - loss: 0.6661 - accuracy: 0.6914 - val_loss: 1.0204 - val_accuracy: 0.7188\n",
            "Epoch 12/15\n",
            "16/16 [==============================] - 18s 1s/step - loss: 0.8240 - accuracy: 0.6797 - val_loss: 0.5704 - val_accuracy: 0.7031\n",
            "Epoch 13/15\n",
            "16/16 [==============================] - 18s 1s/step - loss: 0.6986 - accuracy: 0.6836 - val_loss: 1.9912 - val_accuracy: 0.5312\n",
            "Epoch 14/15\n",
            "16/16 [==============================] - 18s 1s/step - loss: 0.6688 - accuracy: 0.6992 - val_loss: 2.5080 - val_accuracy: 0.4375\n",
            "Epoch 15/15\n",
            "16/16 [==============================] - 18s 1s/step - loss: 0.6807 - accuracy: 0.6758 - val_loss: 0.6952 - val_accuracy: 0.7344\n"
          ]
        }
      ],
      "source": [
        "callback = tf.keras.callbacks.EarlyStopping(monitor='loss', patience=5)\n",
        "optimizer = tf.keras.optimizers.Adam(lr=0.005)\n",
        "model.compile(optimizer=optimizer, loss='categorical_crossentropy', metrics=['accuracy'])\n",
        "history = model.fit(\n",
        "    train_generator, \n",
        "    batch_size= 8,\n",
        "    epochs=15, \n",
        "    validation_data = valid_generator, \n",
        "    callbacks= callback\n",
        "    )\n"
      ]
    },
    {
      "cell_type": "code",
      "execution_count": 105,
      "metadata": {
        "id": "I2EBxm55ZuOU",
        "outputId": "d59e0873-2d10-4e40-d236-8a6eb74f3a52",
        "colab": {
          "base_uri": "https://localhost:8080/",
          "height": 295
        }
      },
      "outputs": [
        {
          "output_type": "display_data",
          "data": {
            "text/plain": [
              "<Figure size 432x288 with 1 Axes>"
            ],
            "image/png": "[encoded data removed]"
          },
          "metadata": {
            "needs_background": "light"
          }
        }
      ],
      "source": [
        "plt.plot(history.history['accuracy'])\n",
        "plt.title('model accuracy')\n",
        "plt.ylabel('accuracy')\n",
        "plt.xlabel('epoch')\n",
        "#plt.legend(['8', '16', '32', '128'], loc='upper left')\n",
        "plt.savefig('Q1_multi.jpg')\n",
        "plt.show()"
      ]
    },
    {
      "cell_type": "code",
      "execution_count": 30,
      "metadata": {
        "id": "tmEvkNzrZuOU",
        "outputId": "0132379d-6bef-4c0f-827e-f54497e4c567",
        "colab": {
          "base_uri": "https://localhost:8080/",
          "height": 295
        }
      },
      "outputs": [
        {
          "output_type": "display_data",
          "data": {
            "text/plain": [
              "<Figure size 432x288 with 1 Axes>"
            ],
            "image/png": "[encoded data removed]"
          },
          "metadata": {
            "needs_background": "light"
          }
        }
      ],
      "source": [
        "plt.plot(history.history['loss'])\n",
        "plt.title('model loss')\n",
        "plt.ylabel('accuracy')\n",
        "plt.xlabel('epoch')\n",
        "#plt.legend(['8', '16', '32', '128'], loc='upper left')\n",
        "plt.savefig('Q1_multi.jpg')\n",
        "plt.show()"
      ]
    },
    {
      "cell_type": "code",
      "execution_count": null,
      "metadata": {
        "id": "1vhZr0O3ZuOT"
      },
      "outputs": [],
      "source": [
        "!unzip \"/content/drive/MyDrive/project/dataset/Test.zip\"\n",
        "data2 = pd.read_csv('/content/drive/MyDrive/project/dataset/test_new_brain.csv') # enter the file path on your drive for the csv file\n",
        "data2.head()"
      ]
    },
    {
      "cell_type": "code",
      "execution_count": 113,
      "metadata": {
        "id": "xxo2z6CYZuOT",
        "outputId": "38fbc4b2-836c-4480-f986-c9d16433ddb4",
        "colab": {
          "base_uri": "https://localhost:8080/"
        }
      },
      "outputs": [
        {
          "output_type": "stream",
          "name": "stdout",
          "text": [
            "Found 79 validated image filenames.\n"
          ]
        }
      ],
      "source": [
        "test_generator = test_aug.flow_from_dataframe(\n",
        "    dataframe=data2,\n",
        "    directory=\"/content/Test\",\n",
        "    x_col='name',\n",
        "    y_col= y_col,\n",
        "    class_mode= \"raw\",\n",
        "    target_size=(500,500), #this will resize the image, you can change the size\n",
        "    batch_size=batch_size\n",
        ")"
      ]
    },
    {
      "cell_type": "markdown",
      "metadata": {
        "id": "boqe46St1--f"
      },
      "source": [
        "## 6) Test your classifier on Test set\n",
        "\n",
        "- Apply same pre-processing as training data (Do not pre-processing with data augmentation here, pre-processing refers to operations like resizing, normalization)\n",
        "- Predict the labels of testing data **using the best model that you have selected according to your validation results** and report the accuracy. \n",
        "- Construct a csv file with test predictions and submit it to SuCourse.\n",
        "\n",
        "Please name the first column image_name and keep the name of the attributes as it is. (Do not change the order of the attributes). Name this file **submission.csv**"
      ]
    },
    {
      "cell_type": "code",
      "execution_count": 119,
      "metadata": {
        "id": "pLo9rnpzZuOU",
        "outputId": "f9624214-f3a9-4e7e-f441-166c4508114e",
        "colab": {
          "base_uri": "https://localhost:8080/"
        }
      },
      "outputs": [
        {
          "output_type": "execute_result",
          "data": {
            "text/plain": [
              "0.31645569620253167"
            ]
          },
          "metadata": {},
          "execution_count": 119
        }
      ],
      "source": [
        "from sklearn.metrics import accuracy_score\n",
        "# Load test data\n",
        "import csv \n",
        "from sklearn import metrics\n",
        "\n",
        "data3 = pd.read_csv('/content/drive/MyDrive/project/dataset/test_brain.csv') # enter the file path on your drive for the csv file\n",
        "data3.head()\n",
        "\n",
        "y_predict = model.predict(test_generator)\n",
        "\n",
        "y_predict = y_predict.argmax(-1)\n",
        "accuracy_score(data3['label'],y_predict)\n",
        "    \n"
      ]
    },
    {
      "cell_type": "markdown",
      "metadata": {
        "id": "ngVLhQAOZuOU"
      },
      "source": [
        ""
      ]
    }
  ],
  "metadata": {
    "colab": {
      "collapsed_sections": [],
      "name": "Training_brain.ipynb",
      "provenance": [],
      "include_colab_link": true
    },
    "kernelspec": {
      "display_name": "Python 3",
      "name": "python3"
    },
    "language_info": {
      "codemirror_mode": {
        "name": "ipython",
        "version": 3
      },
      "file_extension": ".py",
      "mimetype": "text/x-python",
      "name": "python",
      "nbconvert_exporter": "python",
      "pygments_lexer": "ipython3",
      "version": "3.8.13"
    },
    "accelerator": "GPU"
  },
  "nbformat": 4,
  "nbformat_minor": 0
}