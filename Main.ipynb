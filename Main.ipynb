{
  "nbformat": 4,
  "nbformat_minor": 0,
  "metadata": {
    "colab": {
      "name": "Main.ipynb",
      "provenance": [],
      "authorship_tag": "ABX9TyP+AlerabGwsecbnEDAbXYp",
      "include_colab_link": true
    },
    "kernelspec": {
      "name": "python3",
      "display_name": "Python 3"
    },
    "language_info": {
      "name": "python"
    }
  },
  "cells": [
    {
      "cell_type": "markdown",
      "metadata": {
        "id": "view-in-github",
        "colab_type": "text"
      },
      "source": [
        "<a href=\"https://colab.research.google.com/github/mahdi943/brain_cancers/blob/master/Main.ipynb\" target=\"_parent\"><img src=\"https://colab.research.google.com/assets/colab-badge.svg\" alt=\"Open In Colab\"/></a>"
      ]
    },
    {
      "cell_type": "markdown",
      "source": [
        "## Brain cancers\n",
        "Grade classification (4 classes) of brain cancers from histopathological data given whole slide images: We have a small dataset,and the problem was worked on with some success only. May need to use more data from existing datasets or use weak labels...."
      ],
      "metadata": {
        "id": "vplJE61RMW_4"
      }
    },
    {
      "cell_type": "code",
      "execution_count": null,
      "metadata": {
        "id": "VAS7cggzMRyS"
      },
      "outputs": [],
      "source": [
        "## shared googlecolab notebook for Deeplearning project ###\n"
      ]
    },
    {
      "cell_type": "markdown",
      "source": [
        ""
      ],
      "metadata": {
        "id": "6ZTXsDpOMTv-"
      }
    }
  ]
}